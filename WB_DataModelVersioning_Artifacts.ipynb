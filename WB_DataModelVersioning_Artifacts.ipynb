{
  "nbformat": 4,
  "nbformat_minor": 0,
  "metadata": {
    "colab": {
      "name": "WB_DataModelVersioning_Artifacts.ipynb",
      "provenance": [],
      "collapsed_sections": [],
      "include_colab_link": true
    },
    "kernelspec": {
      "name": "python3",
      "display_name": "Python 3"
    },
    "language_info": {
      "name": "python"
    }
  },
  "cells": [
    {
      "cell_type": "markdown",
      "metadata": {
        "id": "view-in-github",
        "colab_type": "text"
      },
      "source": [
        "<a href=\"https://colab.research.google.com/github/pavansai26/WB_DataModelVersioning_Artifacts.ipynb/blob/main/WB_DataModelVersioning_Artifacts.ipynb\" target=\"_parent\"><img src=\"https://colab.research.google.com/assets/colab-badge.svg\" alt=\"Open In Colab\"/></a>"
      ]
    },
    {
      "cell_type": "markdown",
      "metadata": {
        "id": "EcXD_edM_Fa3"
      },
      "source": [
        "in build_model_and_log rename project name to artifacts-example"
      ]
    },
    {
      "cell_type": "markdown",
      "metadata": {
        "id": "7FeFBA4X_Ewv"
      },
      "source": [
        ""
      ]
    },
    {
      "cell_type": "code",
      "metadata": {
        "colab": {
          "base_uri": "https://localhost:8080/"
        },
        "id": "y-Lgr_Ga1HZy",
        "outputId": "2cabb034-4643-45fd-f52f-8e9517591710"
      },
      "source": [
        "# Compatible with wandb version 0.9.2+\n",
        "!pip install wandb -qqq\n",
        "!apt install tree"
      ],
      "execution_count": null,
      "outputs": [
        {
          "output_type": "stream",
          "name": "stdout",
          "text": [
            "\u001b[K     |████████████████████████████████| 1.7 MB 24.8 MB/s \n",
            "\u001b[K     |████████████████████████████████| 139 kB 41.7 MB/s \n",
            "\u001b[K     |████████████████████████████████| 97 kB 6.5 MB/s \n",
            "\u001b[K     |████████████████████████████████| 180 kB 58.4 MB/s \n",
            "\u001b[K     |████████████████████████████████| 63 kB 1.8 MB/s \n",
            "\u001b[?25h  Building wheel for subprocess32 (setup.py) ... \u001b[?25l\u001b[?25hdone\n",
            "  Building wheel for pathtools (setup.py) ... \u001b[?25l\u001b[?25hdone\n",
            "Reading package lists... Done\n",
            "Building dependency tree       \n",
            "Reading state information... Done\n",
            "The following NEW packages will be installed:\n",
            "  tree\n",
            "0 upgraded, 1 newly installed, 0 to remove and 37 not upgraded.\n",
            "Need to get 40.7 kB of archives.\n",
            "After this operation, 105 kB of additional disk space will be used.\n",
            "Get:1 http://archive.ubuntu.com/ubuntu bionic/universe amd64 tree amd64 1.7.0-5 [40.7 kB]\n",
            "Fetched 40.7 kB in 0s (150 kB/s)\n",
            "Selecting previously unselected package tree.\n",
            "(Reading database ... 155047 files and directories currently installed.)\n",
            "Preparing to unpack .../tree_1.7.0-5_amd64.deb ...\n",
            "Unpacking tree (1.7.0-5) ...\n",
            "Setting up tree (1.7.0-5) ...\n",
            "Processing triggers for man-db (2.8.3-2ubuntu0.1) ...\n"
          ]
        }
      ]
    },
    {
      "cell_type": "code",
      "metadata": {
        "id": "GO8RJ6wv1ZSF"
      },
      "source": [
        "import os\n",
        "import wandb"
      ],
      "execution_count": null,
      "outputs": []
    },
    {
      "cell_type": "code",
      "metadata": {
        "id": "Y2Ik5zkJ1cIB"
      },
      "source": [
        "#defining the train, test and valid datasets\n",
        "import random\n",
        "\n",
        "import numpy as np\n",
        "import tensorflow as tf\n",
        "from tensorflow import keras\n",
        "from tensorflow.keras import layers\n",
        "\n",
        "# Set the random seeds\n",
        "os.environ['TF_CUDNN_DETERMINISTIC'] = '1' \n",
        "random.seed(hash(\"setting random seeds\") % 2**32 - 1)\n",
        "np.random.seed(hash(\"improves reproducibility\") % 2**32 - 1)\n",
        "tf.random.set_seed(hash(\"by removing stochasticity\") % 2**32 - 1)\n",
        "\n",
        "from collections import namedtuple\n",
        "\n",
        "Dataset = namedtuple(\"Dataset\", [\"x\", \"y\"])\n",
        "\n",
        "# Data parameters\n",
        "num_classes = 10\n",
        "input_shape = (28, 28, 1)\n",
        "\n",
        "def load(train_size=50_000):\n",
        "    \"\"\"Load the data\"\"\"\n",
        "    # the data, split between train and test sets\n",
        "    (x_train, y_train), (x_test, y_test) = keras.datasets.mnist.load_data()\n",
        "\n",
        "    # split off a validation set for hyperparameter tuning\n",
        "    x_train, x_val = x_train[:train_size], x_train[train_size:]\n",
        "    y_train, y_val = y_train[:train_size], y_train[train_size:]\n",
        "\n",
        "    training_set = Dataset(x_train, y_train)\n",
        "    validation_set = Dataset(x_val, y_val)\n",
        "    test_set = Dataset(x_test, y_test)\n",
        "\n",
        "    datasets = [training_set, validation_set, test_set]\n",
        "\n",
        "    return datasets"
      ],
      "execution_count": null,
      "outputs": []
    },
    {
      "cell_type": "code",
      "metadata": {
        "colab": {
          "base_uri": "https://localhost:8080/",
          "height": 255,
          "referenced_widgets": [
            "272b233074804cc19f2fc4b4152ccc4b"
          ]
        },
        "id": "bFYIyWlk1rmD",
        "outputId": "76c38aff-b538-48bd-9e36-fb9653ae2fec"
      },
      "source": [
        "def load_and_log():\n",
        "\n",
        "    # 🚀 start a run, with a type to label it and a project it can call home\n",
        "    with wandb.init(project=\"artifacts-example\", job_type=\"load-data\") as run:\n",
        "        \n",
        "        datasets = load()  # separate code for loading the datasets\n",
        "        names = [\"training\", \"validation\", \"test\"]\n",
        "\n",
        "        # 🏺 create our Artifact\n",
        "        raw_data = wandb.Artifact(\n",
        "            \"mnist-raw\", type=\"dataset\",\n",
        "            description=\"Raw MNIST dataset, split into train/val/test\",\n",
        "            metadata={\"source\": \"keras.datasets.mnist\",\n",
        "                      \"sizes\": [len(dataset.x) for dataset in datasets]})\n",
        "\n",
        "        for name, data in zip(names, datasets):\n",
        "            # 🐣 Store a new file in the artifact, and write something into its contents.\n",
        "            with raw_data.new_file(name + \".npz\", mode=\"wb\") as file:\n",
        "                np.savez(file, x=data.x, y=data.y)\n",
        "\n",
        "        # ✍️ Save the artifact to W&B.\n",
        "        run.log_artifact(raw_data)\n",
        "\n",
        "load_and_log()"
      ],
      "execution_count": null,
      "outputs": [
        {
          "output_type": "display_data",
          "data": {
            "application/javascript": [
              "\n",
              "        window._wandbApiKey = new Promise((resolve, reject) => {\n",
              "            function loadScript(url) {\n",
              "            return new Promise(function(resolve, reject) {\n",
              "                let newScript = document.createElement(\"script\");\n",
              "                newScript.onerror = reject;\n",
              "                newScript.onload = resolve;\n",
              "                document.body.appendChild(newScript);\n",
              "                newScript.src = url;\n",
              "            });\n",
              "            }\n",
              "            loadScript(\"https://cdn.jsdelivr.net/npm/postmate/build/postmate.min.js\").then(() => {\n",
              "            const iframe = document.createElement('iframe')\n",
              "            iframe.style.cssText = \"width:0;height:0;border:none\"\n",
              "            document.body.appendChild(iframe)\n",
              "            const handshake = new Postmate({\n",
              "                container: iframe,\n",
              "                url: 'https://wandb.ai/authorize'\n",
              "            });\n",
              "            const timeout = setTimeout(() => reject(\"Couldn't auto authenticate\"), 5000)\n",
              "            handshake.then(function(child) {\n",
              "                child.on('authorize', data => {\n",
              "                    clearTimeout(timeout)\n",
              "                    resolve(data)\n",
              "                });\n",
              "            });\n",
              "            })\n",
              "        });\n",
              "    "
            ],
            "text/plain": [
              "<IPython.core.display.Javascript object>"
            ]
          },
          "metadata": {}
        },
        {
          "output_type": "stream",
          "name": "stderr",
          "text": [
            "\u001b[34m\u001b[1mwandb\u001b[0m: You can find your API key in your browser here: https://wandb.ai/authorize\n"
          ]
        },
        {
          "name": "stdout",
          "output_type": "stream",
          "text": [
            "wandb: Paste an API key from your profile and hit enter: ··········\n"
          ]
        },
        {
          "output_type": "stream",
          "name": "stderr",
          "text": [
            "\u001b[34m\u001b[1mwandb\u001b[0m: Appending key for api.wandb.ai to your netrc file: /root/.netrc\n"
          ]
        },
        {
          "output_type": "display_data",
          "data": {
            "text/html": [
              "\n",
              "                    Syncing run <strong><a href=\"https://wandb.ai/gman001/artifacts-example/runs/6a6o279c\" target=\"_blank\">stoic-puddle-1</a></strong> to <a href=\"https://wandb.ai/gman001/artifacts-example\" target=\"_blank\">Weights & Biases</a> (<a href=\"https://docs.wandb.com/integrations/jupyter.html\" target=\"_blank\">docs</a>).<br/>\n",
              "\n",
              "                "
            ],
            "text/plain": [
              "<IPython.core.display.HTML object>"
            ]
          },
          "metadata": {}
        },
        {
          "output_type": "stream",
          "name": "stdout",
          "text": [
            "Downloading data from https://storage.googleapis.com/tensorflow/tf-keras-datasets/mnist.npz\n",
            "11493376/11490434 [==============================] - 0s 0us/step\n",
            "11501568/11490434 [==============================] - 0s 0us/step\n"
          ]
        },
        {
          "output_type": "display_data",
          "data": {
            "text/html": [
              "<br/>Waiting for W&B process to finish, PID 359... <strong style=\"color:green\">(success).</strong>"
            ],
            "text/plain": [
              "<IPython.core.display.HTML object>"
            ]
          },
          "metadata": {}
        },
        {
          "output_type": "display_data",
          "data": {
            "application/vnd.jupyter.widget-view+json": {
              "model_id": "272b233074804cc19f2fc4b4152ccc4b",
              "version_minor": 0,
              "version_major": 2
            },
            "text/plain": [
              "VBox(children=(Label(value=' 52.41MB of 52.41MB uploaded (0.00MB deduped)\\r'), FloatProgress(value=1.0, max=1.…"
            ]
          },
          "metadata": {}
        },
        {
          "output_type": "display_data",
          "data": {
            "text/html": [
              "<style>\n",
              "    table.wandb td:nth-child(1) { padding: 0 10px; text-align: right }\n",
              "    .wandb-row { display: flex; flex-direction: row; flex-wrap: wrap; width: 100% }\n",
              "    .wandb-col { display: flex; flex-direction: column; flex-basis: 100%; flex: 1; padding: 10px; }\n",
              "    </style>\n",
              "<div class=\"wandb-row\"><div class=\"wandb-col\">\n",
              "</div><div class=\"wandb-col\">\n",
              "</div></div>\n",
              "Synced 5 W&B file(s), 0 media file(s), 3 artifact file(s) and 0 other file(s)\n",
              "<br/>Synced <strong style=\"color:#cdcd00\">stoic-puddle-1</strong>: <a href=\"https://wandb.ai/gman001/artifacts-example/runs/6a6o279c\" target=\"_blank\">https://wandb.ai/gman001/artifacts-example/runs/6a6o279c</a><br/>\n",
              "Find logs at: <code>./wandb/run-20211009_113845-6a6o279c/logs</code><br/>\n"
            ],
            "text/plain": [
              "<IPython.core.display.HTML object>"
            ]
          },
          "metadata": {}
        }
      ]
    },
    {
      "cell_type": "code",
      "metadata": {
        "id": "UsrHdUiH2W7s"
      },
      "source": [
        "def preprocess(dataset, normalize=True, expand_dims=True, to_categorical=True):\n",
        "    \"\"\"Prepare the data\"\"\"\n",
        "    x, y = dataset.x, dataset.y\n",
        "\n",
        "    if normalize:\n",
        "        # Scale images to the [0, 1] range\n",
        "        x = x.astype(\"float32\") / 255\n",
        "\n",
        "    if expand_dims:\n",
        "        # Make sure images have shape (28, 28, 1)\n",
        "        x = np.expand_dims(x, -1)\n",
        "\n",
        "    if to_categorical:\n",
        "        # convert class vectors to binary class matrices\n",
        "        y = keras.utils.to_categorical(y, num_classes)\n",
        "        \n",
        "    return Dataset(x, y)"
      ],
      "execution_count": null,
      "outputs": []
    },
    {
      "cell_type": "code",
      "metadata": {
        "id": "m63N0KWT2m2P"
      },
      "source": [
        "def preprocess_and_log(steps):\n",
        "\n",
        "    with wandb.init(project=\"artifacts-example\", job_type=\"preprocess-data\") as run:\n",
        "\n",
        "        processed_data = wandb.Artifact(\n",
        "            \"mnist-preprocess\", type=\"dataset\",\n",
        "            description=\"Preprocessed MNIST dataset\",\n",
        "            metadata=steps)\n",
        "         \n",
        "        # ✔️ declare which artifact we'll be using\n",
        "        raw_data_artifact = run.use_artifact('mnist-raw:latest')\n",
        "\n",
        "        # 📥 if need be, download the artifact\n",
        "        raw_dataset = raw_data_artifact.download()\n",
        "        \n",
        "        for split in [\"training\", \"validation\", \"test\"]:\n",
        "            raw_split = read(raw_dataset, split)\n",
        "            processed_dataset = preprocess(raw_split, **steps)\n",
        "\n",
        "            with processed_data.new_file(split + \".npz\", mode=\"wb\") as file:\n",
        "                np.savez(file, x=processed_dataset.x, y=processed_dataset.y)\n",
        "\n",
        "        run.log_artifact(processed_data)\n",
        "\n",
        "\n",
        "def read(data_dir, split):\n",
        "    filename = split + \".npz\"\n",
        "    data = np.load(os.path.join(data_dir, filename))\n",
        "\n",
        "    return Dataset(x=data[\"x\"], y=data[\"y\"])"
      ],
      "execution_count": null,
      "outputs": []
    },
    {
      "cell_type": "code",
      "metadata": {
        "colab": {
          "base_uri": "https://localhost:8080/",
          "height": 171,
          "referenced_widgets": [
            "d329a430ceb44077bcb69ff6d4c436c4"
          ]
        },
        "id": "T3HlHszY23hq",
        "outputId": "258d5f63-29e6-4396-8b93-301224d38d5a"
      },
      "source": [
        "steps = {\"normalize\": True,\n",
        "         \"expand_dims\": True,\n",
        "         \"to_categorical\" : True}\n",
        "\n",
        "preprocess_and_log(steps)"
      ],
      "execution_count": null,
      "outputs": [
        {
          "output_type": "stream",
          "name": "stderr",
          "text": [
            "\u001b[34m\u001b[1mwandb\u001b[0m: Currently logged in as: \u001b[33mgman001\u001b[0m (use `wandb login --relogin` to force relogin)\n"
          ]
        },
        {
          "output_type": "display_data",
          "data": {
            "text/html": [
              "\n",
              "                    Syncing run <strong><a href=\"https://wandb.ai/gman001/artifacts-example/runs/2rp8uh2r\" target=\"_blank\">playful-voice-2</a></strong> to <a href=\"https://wandb.ai/gman001/artifacts-example\" target=\"_blank\">Weights & Biases</a> (<a href=\"https://docs.wandb.com/integrations/jupyter.html\" target=\"_blank\">docs</a>).<br/>\n",
              "\n",
              "                "
            ],
            "text/plain": [
              "<IPython.core.display.HTML object>"
            ]
          },
          "metadata": {}
        },
        {
          "output_type": "stream",
          "name": "stderr",
          "text": [
            "\u001b[34m\u001b[1mwandb\u001b[0m: Downloading large artifact mnist-raw:latest, 52.41MB. 3 files... Done. 0:0:0\n"
          ]
        },
        {
          "output_type": "display_data",
          "data": {
            "text/html": [
              "<br/>Waiting for W&B process to finish, PID 412... <strong style=\"color:green\">(success).</strong>"
            ],
            "text/plain": [
              "<IPython.core.display.HTML object>"
            ]
          },
          "metadata": {}
        },
        {
          "output_type": "display_data",
          "data": {
            "application/vnd.jupyter.widget-view+json": {
              "model_id": "d329a430ceb44077bcb69ff6d4c436c4",
              "version_minor": 0,
              "version_major": 2
            },
            "text/plain": [
              "VBox(children=(Label(value=' 212.02MB of 212.02MB uploaded (0.00MB deduped)\\r'), FloatProgress(value=1.0, max=…"
            ]
          },
          "metadata": {}
        },
        {
          "output_type": "display_data",
          "data": {
            "text/html": [
              "<style>\n",
              "    table.wandb td:nth-child(1) { padding: 0 10px; text-align: right }\n",
              "    .wandb-row { display: flex; flex-direction: row; flex-wrap: wrap; width: 100% }\n",
              "    .wandb-col { display: flex; flex-direction: column; flex-basis: 100%; flex: 1; padding: 10px; }\n",
              "    </style>\n",
              "<div class=\"wandb-row\"><div class=\"wandb-col\">\n",
              "</div><div class=\"wandb-col\">\n",
              "</div></div>\n",
              "Synced 5 W&B file(s), 0 media file(s), 3 artifact file(s) and 0 other file(s)\n",
              "<br/>Synced <strong style=\"color:#cdcd00\">playful-voice-2</strong>: <a href=\"https://wandb.ai/gman001/artifacts-example/runs/2rp8uh2r\" target=\"_blank\">https://wandb.ai/gman001/artifacts-example/runs/2rp8uh2r</a><br/>\n",
              "Find logs at: <code>./wandb/run-20211009_114138-2rp8uh2r/logs</code><br/>\n"
            ],
            "text/plain": [
              "<IPython.core.display.HTML object>"
            ]
          },
          "metadata": {}
        }
      ]
    },
    {
      "cell_type": "code",
      "metadata": {
        "id": "5BlEAnuY3B3c"
      },
      "source": [
        "#defining the model\n",
        "def build_model(hidden_layer_sizes=[32, 64],\n",
        "                kernel_sizes=[(3, 3)],\n",
        "                activation=\"relu\",\n",
        "                pool_sizes=[(2, 2)],\n",
        "                dropout=0.5,\n",
        "                num_classes=10,\n",
        "                input_shape=(28, 28, 1)):\n",
        "\n",
        "    model = keras.Sequential(\n",
        "        [\n",
        "            keras.Input(shape=input_shape),\n",
        "            layers.Conv2D(hidden_layer_sizes[0], kernel_size=kernel_sizes[0],\n",
        "                          activation=activation),\n",
        "            layers.MaxPooling2D(pool_size=pool_sizes[0]),\n",
        "            layers.Conv2D(hidden_layer_sizes[-1], kernel_size=kernel_sizes[-1],\n",
        "                          activation=activation),\n",
        "            layers.MaxPooling2D(pool_size=pool_sizes[-1]),\n",
        "            layers.Flatten(),\n",
        "            layers.Dropout(dropout),\n",
        "            layers.Dense(num_classes, activation=\"softmax\"),\n",
        "        ]\n",
        "    )\n",
        "\n",
        "    model.summary()\n",
        "\n",
        "    return model"
      ],
      "execution_count": null,
      "outputs": []
    },
    {
      "cell_type": "code",
      "metadata": {
        "colab": {
          "base_uri": "https://localhost:8080/",
          "height": 524,
          "referenced_widgets": [
            "048ed25fa6fd4c92b5ddf254f9acdb9e"
          ]
        },
        "id": "kG_322AR3lT7",
        "outputId": "d0ee41a4-e7c0-442b-f8fb-8f57b63816d9"
      },
      "source": [
        "def build_model_and_log(config):\n",
        "    with wandb.init(project=\"keras-artifacts\", job_type=\"initialize\", config=config) as run:\n",
        "        config = wandb.config\n",
        "        \n",
        "        model = build_model(**config)\n",
        "\n",
        "        model_artifact = wandb.Artifact(\n",
        "            \"convnet\", type=\"model\",\n",
        "            description=\"Simple AlexNet style CNN\",\n",
        "            metadata=dict(config))\n",
        "\n",
        "        model.save(\"initialized_model.keras\")\n",
        "        # ➕ another way to add a file to an Artifact\n",
        "        model_artifact.add_file(\"initialized_model.keras\")\n",
        "        wandb.save(\"initialized_model.keras\")\n",
        "\n",
        "        run.log_artifact(model_artifact)\n",
        "\n",
        "model_config = {\"hidden_layer_sizes\": [32, 64],\n",
        "                \"kernel_sizes\": [(3, 3)],\n",
        "                \"activation\": \"relu\",\n",
        "                \"pool_sizes\": [(2, 2)],\n",
        "                \"dropout\": 0.5,\n",
        "                \"num_classes\": 10,\n",
        "                \"input_shape\": (28, 28, 1)}\n",
        "\n",
        "build_model_and_log(model_config)"
      ],
      "execution_count": null,
      "outputs": [
        {
          "output_type": "display_data",
          "data": {
            "text/html": [
              "\n",
              "                    Syncing run <strong><a href=\"https://wandb.ai/gman001/artifacts-example/runs/11z74w1q\" target=\"_blank\">pretty-disco-3</a></strong> to <a href=\"https://wandb.ai/gman001/artifacts-example\" target=\"_blank\">Weights & Biases</a> (<a href=\"https://docs.wandb.com/integrations/jupyter.html\" target=\"_blank\">docs</a>).<br/>\n",
              "\n",
              "                "
            ],
            "text/plain": [
              "<IPython.core.display.HTML object>"
            ]
          },
          "metadata": {}
        },
        {
          "output_type": "stream",
          "name": "stdout",
          "text": [
            "Model: \"sequential\"\n",
            "_________________________________________________________________\n",
            "Layer (type)                 Output Shape              Param #   \n",
            "=================================================================\n",
            "conv2d (Conv2D)              (None, 26, 26, 32)        320       \n",
            "_________________________________________________________________\n",
            "max_pooling2d (MaxPooling2D) (None, 13, 13, 32)        0         \n",
            "_________________________________________________________________\n",
            "conv2d_1 (Conv2D)            (None, 11, 11, 64)        18496     \n",
            "_________________________________________________________________\n",
            "max_pooling2d_1 (MaxPooling2 (None, 5, 5, 64)          0         \n",
            "_________________________________________________________________\n",
            "flatten (Flatten)            (None, 1600)              0         \n",
            "_________________________________________________________________\n",
            "dropout (Dropout)            (None, 1600)              0         \n",
            "_________________________________________________________________\n",
            "dense (Dense)                (None, 10)                16010     \n",
            "=================================================================\n",
            "Total params: 34,826\n",
            "Trainable params: 34,826\n",
            "Non-trainable params: 0\n",
            "_________________________________________________________________\n",
            "WARNING:tensorflow:Compiled the loaded model, but the compiled metrics have yet to be built. `model.compile_metrics` will be empty until you train or evaluate the model.\n"
          ]
        },
        {
          "output_type": "display_data",
          "data": {
            "text/html": [
              "<br/>Waiting for W&B process to finish, PID 492... <strong style=\"color:green\">(success).</strong>"
            ],
            "text/plain": [
              "<IPython.core.display.HTML object>"
            ]
          },
          "metadata": {}
        },
        {
          "output_type": "display_data",
          "data": {
            "application/vnd.jupyter.widget-view+json": {
              "model_id": "048ed25fa6fd4c92b5ddf254f9acdb9e",
              "version_minor": 0,
              "version_major": 2
            },
            "text/plain": [
              "VBox(children=(Label(value=' 0.30MB of 0.30MB uploaded (0.00MB deduped)\\r'), FloatProgress(value=1.0, max=1.0)…"
            ]
          },
          "metadata": {}
        },
        {
          "output_type": "display_data",
          "data": {
            "text/html": [
              "<style>\n",
              "    table.wandb td:nth-child(1) { padding: 0 10px; text-align: right }\n",
              "    .wandb-row { display: flex; flex-direction: row; flex-wrap: wrap; width: 100% }\n",
              "    .wandb-col { display: flex; flex-direction: column; flex-basis: 100%; flex: 1; padding: 10px; }\n",
              "    </style>\n",
              "<div class=\"wandb-row\"><div class=\"wandb-col\">\n",
              "</div><div class=\"wandb-col\">\n",
              "</div></div>\n",
              "Synced 5 W&B file(s), 0 media file(s), 1 artifact file(s) and 1 other file(s)\n",
              "<br/>Synced <strong style=\"color:#cdcd00\">pretty-disco-3</strong>: <a href=\"https://wandb.ai/gman001/artifacts-example/runs/11z74w1q\" target=\"_blank\">https://wandb.ai/gman001/artifacts-example/runs/11z74w1q</a><br/>\n",
              "Find logs at: <code>./wandb/run-20211009_114446-11z74w1q/logs</code><br/>\n"
            ],
            "text/plain": [
              "<IPython.core.display.HTML object>"
            ]
          },
          "metadata": {}
        }
      ]
    },
    {
      "cell_type": "code",
      "metadata": {
        "id": "GDjOxm_h4AfZ"
      },
      "source": [
        "def train(model, training, validation, config):\n",
        "    \"\"\"Train the model\"\"\"\n",
        "    model.compile(loss=\"categorical_crossentropy\",\n",
        "                  optimizer=config.optimizer, metrics=[\"accuracy\"])\n",
        "\n",
        "    callback = wandb.keras.WandbCallback(\n",
        "        validation_data=(validation.x[:32], validation.y[:32]),\n",
        "        input_type=\"images\", labels=[str(i) for i in range(10)],\n",
        "        **config[\"callback_config\"])\n",
        "\n",
        "    model.fit(training.x, training.y,\n",
        "            validation_data=(validation.x, validation.y),\n",
        "            batch_size=config.batch_size, epochs=config.epochs,\n",
        "            callbacks=[callback])"
      ],
      "execution_count": null,
      "outputs": []
    },
    {
      "cell_type": "code",
      "metadata": {
        "id": "jQCzB2ou4BzU"
      },
      "source": [
        "def evaluate(model, test_dataset):\n",
        "    \"\"\"Evaluate the trained model\"\"\"\n",
        "\n",
        "    loss, accuracy = model.evaluate(test_dataset.x, test_dataset.y, verbose=1)\n",
        "    highest_losses, hardest_examples, true_labels, predictions = get_hardest_k_examples(test_dataset, model)\n",
        "\n",
        "    return loss, accuracy, highest_losses, hardest_examples, true_labels, predictions\n",
        "\n",
        "\n",
        "def get_hardest_k_examples(test_dataset, model, k=32):\n",
        "    class_probs = model(test_dataset.x)\n",
        "    predictions = np.argmax(class_probs, axis=1)\n",
        "    losses = keras.losses.categorical_crossentropy(test_dataset.y, class_probs)\n",
        "    argsort_loss =  np.argsort(losses)\n",
        "\n",
        "    highest_k_losses = np.array(losses)[argsort_loss[-k:]]\n",
        "    hardest_k_examples = test_dataset.x[argsort_loss[-k:]]\n",
        "    true_labels = np.argmax(test_dataset.y[argsort_loss[-k:]], axis=1)\n",
        "\n",
        "    return highest_k_losses, hardest_k_examples, true_labels, predictions"
      ],
      "execution_count": null,
      "outputs": []
    },
    {
      "cell_type": "code",
      "metadata": {
        "id": "PAK9s3ZP4Fir"
      },
      "source": [
        "def train_and_log(config):\n",
        "\n",
        "    with wandb.init(project=\"artifacts-example\", job_type=\"train\", config=config) as run:\n",
        "        config = wandb.config\n",
        "\n",
        "        data = run.use_artifact('mnist-preprocess:latest')\n",
        "        data_dir = data.download()\n",
        "        training_dataset =  read(data_dir, \"training\")\n",
        "        validation_dataset = read(data_dir, \"validation\")\n",
        "        \n",
        "        model_artifact = run.use_artifact(\"convnet:latest\")\n",
        "        model_dir = model_artifact.download()\n",
        "        model_path = os.path.join(model_dir, \"initialized_model.keras\")\n",
        "        model = keras.models.load_model(model_path)\n",
        "\n",
        "        model_config = model_artifact.metadata\n",
        "\n",
        "        config.update(model_config)\n",
        " \n",
        "        train(model, training_dataset, validation_dataset, config)\n",
        "\n",
        "        model_artifact = wandb.Artifact(\n",
        "            \"trained-model\", type=\"model\",\n",
        "            description=\"NN model trained with model.fit\",\n",
        "            metadata=dict(config))\n",
        "\n",
        "        model.save(\"trained_model.keras\")\n",
        "        model_artifact.add_file(\"trained_model.keras\")\n",
        "        wandb.save(\"trained_model.keras\")\n",
        "\n",
        "        run.log_artifact(model_artifact)\n",
        "\n",
        "    return model\n",
        "\n",
        "    \n",
        "def evaluate_and_log(config=None):\n",
        "    \n",
        "    with wandb.init(project=\"artifacts-example\", job_type=\"report\", config=config) as run:\n",
        "        data = run.use_artifact('mnist-preprocess:latest')\n",
        "        data_dir = data.download()\n",
        "        test_dataset = read(data_dir, \"test\")\n",
        "\n",
        "        model_artifact = run.use_artifact(\"trained-model:latest\")\n",
        "        model_dir = model_artifact.download()\n",
        "        model_path = os.path.join(model_dir, \"trained_model.keras\")\n",
        "        model = keras.models.load_model(model_path)\n",
        "\n",
        "        loss, accuracy, highest_losses, hardest_examples, true_labels, preds = evaluate(model, test_dataset)\n",
        "\n",
        "        run.summary.update({\"loss\": loss, \"accuracy\": accuracy})\n",
        "\n",
        "        wandb.log({\"high-loss-examples\":\n",
        "            [wandb.Image(hard_example, caption=str(pred) + \",\" +  str(label))\n",
        "             for hard_example, pred, label in zip(hardest_examples, preds, true_labels)]})       "
      ],
      "execution_count": null,
      "outputs": []
    },
    {
      "cell_type": "code",
      "metadata": {
        "colab": {
          "base_uri": "https://localhost:8080/",
          "height": 795,
          "referenced_widgets": [
            "7f068f92567c41418c846aad97917bbc",
            "b3c188c673414a4785f84d2471fea730"
          ]
        },
        "id": "wKw62sD64K4m",
        "outputId": "fae17a35-e2c3-42ef-84e5-366d7a197d43"
      },
      "source": [
        "callback_config = {\"log_weights\": True,\n",
        "                   \"save_model\": False,\n",
        "                   \"log_batch_frequency\": 10}\n",
        "\n",
        "train_config = {\"batch_size\": 128,\n",
        "                \"epochs\": 5,\n",
        "                \"optimizer\": \"adam\",\n",
        "                \"callback_config\": callback_config}\n",
        "\n",
        "model = train_and_log(train_config)\n",
        "evaluate_and_log()"
      ],
      "execution_count": null,
      "outputs": [
        {
          "output_type": "display_data",
          "data": {
            "text/html": [
              "\n",
              "                    Syncing run <strong><a href=\"https://wandb.ai/gman001/artifacts-example/runs/1teazlz7\" target=\"_blank\">silvery-voice-4</a></strong> to <a href=\"https://wandb.ai/gman001/artifacts-example\" target=\"_blank\">Weights & Biases</a> (<a href=\"https://docs.wandb.com/integrations/jupyter.html\" target=\"_blank\">docs</a>).<br/>\n",
              "\n",
              "                "
            ],
            "text/plain": [
              "<IPython.core.display.HTML object>"
            ]
          },
          "metadata": {}
        },
        {
          "output_type": "stream",
          "name": "stderr",
          "text": [
            "\u001b[34m\u001b[1mwandb\u001b[0m: Downloading large artifact mnist-preprocess:latest, 212.02MB. 3 files... Done. 0:0:0\n"
          ]
        },
        {
          "output_type": "stream",
          "name": "stdout",
          "text": [
            "WARNING:tensorflow:No training configuration found in the save file, so the model was *not* compiled. Compile it manually.\n",
            "Epoch 1/5\n",
            "391/391 [==============================] - 41s 102ms/step - loss: 0.3890 - accuracy: 0.8807 - val_loss: 0.0955 - val_accuracy: 0.9732\n",
            "Epoch 2/5\n",
            "391/391 [==============================] - 39s 99ms/step - loss: 0.1160 - accuracy: 0.9640 - val_loss: 0.0638 - val_accuracy: 0.9821\n",
            "Epoch 3/5\n",
            "391/391 [==============================] - 39s 100ms/step - loss: 0.0884 - accuracy: 0.9727 - val_loss: 0.0548 - val_accuracy: 0.9845\n",
            "Epoch 4/5\n",
            "391/391 [==============================] - 39s 100ms/step - loss: 0.0717 - accuracy: 0.9778 - val_loss: 0.0476 - val_accuracy: 0.9864\n",
            "Epoch 5/5\n",
            "391/391 [==============================] - 38s 98ms/step - loss: 0.0615 - accuracy: 0.9809 - val_loss: 0.0446 - val_accuracy: 0.9860\n"
          ]
        },
        {
          "output_type": "display_data",
          "data": {
            "text/html": [
              "<br/>Waiting for W&B process to finish, PID 541... <strong style=\"color:green\">(success).</strong>"
            ],
            "text/plain": [
              "<IPython.core.display.HTML object>"
            ]
          },
          "metadata": {}
        },
        {
          "output_type": "display_data",
          "data": {
            "application/vnd.jupyter.widget-view+json": {
              "model_id": "7f068f92567c41418c846aad97917bbc",
              "version_minor": 0,
              "version_major": 2
            },
            "text/plain": [
              "VBox(children=(Label(value=' 0.92MB of 0.92MB uploaded (0.00MB deduped)\\r'), FloatProgress(value=1.0, max=1.0)…"
            ]
          },
          "metadata": {}
        },
        {
          "output_type": "display_data",
          "data": {
            "text/html": [
              "<style>\n",
              "    table.wandb td:nth-child(1) { padding: 0 10px; text-align: right }\n",
              "    .wandb-row { display: flex; flex-direction: row; flex-wrap: wrap; width: 100% }\n",
              "    .wandb-col { display: flex; flex-direction: column; flex-basis: 100%; flex: 1; padding: 10px; }\n",
              "    </style>\n",
              "<div class=\"wandb-row\"><div class=\"wandb-col\">\n",
              "<h3>Run history:</h3><br/><table class=\"wandb\"><tr><td>accuracy</td><td>▁▄▆▆▆▇▇▇████████████████████████████████</td></tr><tr><td>epoch</td><td>▁▃▅▆█</td></tr><tr><td>loss</td><td>█▅▄▃▃▃▂▂▁▁▁▁▁▁▁▁▁▁▁▁▁▁▁▁▁▁▁▁▁▁▁▁▁▁▁▁▁▁▁▁</td></tr><tr><td>val_accuracy</td><td>▁▆▇██</td></tr><tr><td>val_loss</td><td>█▄▂▁▁</td></tr></table><br/></div><div class=\"wandb-col\">\n",
              "<h3>Run summary:</h3><br/><table class=\"wandb\"><tr><td>accuracy</td><td>0.98088</td></tr><tr><td>best_epoch</td><td>4</td></tr><tr><td>best_val_loss</td><td>0.04459</td></tr><tr><td>epoch</td><td>4</td></tr><tr><td>loss</td><td>0.06152</td></tr><tr><td>val_accuracy</td><td>0.986</td></tr><tr><td>val_loss</td><td>0.04459</td></tr></table>\n",
              "</div></div>\n",
              "Synced 5 W&B file(s), 181 media file(s), 1 artifact file(s) and 1 other file(s)\n",
              "<br/>Synced <strong style=\"color:#cdcd00\">silvery-voice-4</strong>: <a href=\"https://wandb.ai/gman001/artifacts-example/runs/1teazlz7\" target=\"_blank\">https://wandb.ai/gman001/artifacts-example/runs/1teazlz7</a><br/>\n",
              "Find logs at: <code>./wandb/run-20211009_114709-1teazlz7/logs</code><br/>\n"
            ],
            "text/plain": [
              "<IPython.core.display.HTML object>"
            ]
          },
          "metadata": {}
        },
        {
          "output_type": "display_data",
          "data": {
            "text/html": [
              "\n",
              "                    Syncing run <strong><a href=\"https://wandb.ai/gman001/artifacts-example/runs/6172olft\" target=\"_blank\">bright-jazz-5</a></strong> to <a href=\"https://wandb.ai/gman001/artifacts-example\" target=\"_blank\">Weights & Biases</a> (<a href=\"https://docs.wandb.com/integrations/jupyter.html\" target=\"_blank\">docs</a>).<br/>\n",
              "\n",
              "                "
            ],
            "text/plain": [
              "<IPython.core.display.HTML object>"
            ]
          },
          "metadata": {}
        },
        {
          "output_type": "stream",
          "name": "stderr",
          "text": [
            "\u001b[34m\u001b[1mwandb\u001b[0m: Downloading large artifact mnist-preprocess:latest, 212.02MB. 3 files... Done. 0:0:0\n"
          ]
        },
        {
          "output_type": "stream",
          "name": "stdout",
          "text": [
            "313/313 [==============================] - 3s 8ms/step - loss: 0.0360 - accuracy: 0.9887\n"
          ]
        },
        {
          "output_type": "display_data",
          "data": {
            "text/html": [
              "<br/>Waiting for W&B process to finish, PID 905... <strong style=\"color:green\">(success).</strong>"
            ],
            "text/plain": [
              "<IPython.core.display.HTML object>"
            ]
          },
          "metadata": {}
        },
        {
          "output_type": "display_data",
          "data": {
            "application/vnd.jupyter.widget-view+json": {
              "model_id": "b3c188c673414a4785f84d2471fea730",
              "version_minor": 0,
              "version_major": 2
            },
            "text/plain": [
              "VBox(children=(Label(value=' 0.01MB of 0.01MB uploaded (0.00MB deduped)\\r'), FloatProgress(value=0.64542132416…"
            ]
          },
          "metadata": {}
        },
        {
          "output_type": "display_data",
          "data": {
            "text/html": [
              "<style>\n",
              "    table.wandb td:nth-child(1) { padding: 0 10px; text-align: right }\n",
              "    .wandb-row { display: flex; flex-direction: row; flex-wrap: wrap; width: 100% }\n",
              "    .wandb-col { display: flex; flex-direction: column; flex-basis: 100%; flex: 1; padding: 10px; }\n",
              "    </style>\n",
              "<div class=\"wandb-row\"><div class=\"wandb-col\">\n",
              "</div><div class=\"wandb-col\">\n",
              "<h3>Run summary:</h3><br/><table class=\"wandb\"><tr><td>accuracy</td><td>0.9887</td></tr><tr><td>loss</td><td>0.03596</td></tr></table>\n",
              "</div></div>\n",
              "Synced 5 W&B file(s), 32 media file(s), 0 artifact file(s) and 0 other file(s)\n",
              "<br/>Synced <strong style=\"color:#cdcd00\">bright-jazz-5</strong>: <a href=\"https://wandb.ai/gman001/artifacts-example/runs/6172olft\" target=\"_blank\">https://wandb.ai/gman001/artifacts-example/runs/6172olft</a><br/>\n",
              "Find logs at: <code>./wandb/run-20211009_115042-6172olft/logs</code><br/>\n"
            ],
            "text/plain": [
              "<IPython.core.display.HTML object>"
            ]
          },
          "metadata": {}
        }
      ]
    }
  ]
}